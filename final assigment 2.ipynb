{
 "cells": [
  {
   "cell_type": "code",
   "execution_count": 14,
   "id": "8af137c1",
   "metadata": {},
   "outputs": [],
   "source": [
    "import numpy as np"
   ]
  },
  {
   "cell_type": "code",
   "execution_count": 15,
   "id": "e5718f83",
   "metadata": {},
   "outputs": [],
   "source": [
    "data=np.genfromtxt(r\"C:\\Users\\DELL\\Downloads\\train_extended.csv\",skip_header=1,delimiter=',')"
   ]
  },
  {
   "cell_type": "code",
   "execution_count": 16,
   "id": "254f4c98",
   "metadata": {},
   "outputs": [
    {
     "data": {
      "text/plain": [
       "array([[ 1.575     ,  1.225     ,  0.375     , ...,  6.3219385 ,\n",
       "         9.63883   , 10.        ],\n",
       "       [ 1.2375    ,  1.        ,  0.375     , ...,  3.798833  ,\n",
       "         7.654365  , 19.        ],\n",
       "       [ 1.45      ,  1.1625    ,  0.4125    , ...,  7.01650125,\n",
       "         7.257472  , 11.        ],\n",
       "       ...,\n",
       "       [ 1.125     ,  0.9125    ,  0.2875    , ...,  1.984465  ,\n",
       "         3.118445  ,  7.        ],\n",
       "       [ 1.625     ,  1.275     ,  0.4125    , ...,  7.86698625,\n",
       "        10.489315  , 11.        ],\n",
       "       [ 1.5875    ,  1.25      ,  0.3875    , ...,  7.38504475,\n",
       "         8.788345  , 11.        ]])"
      ]
     },
     "execution_count": 16,
     "metadata": {},
     "output_type": "execute_result"
    }
   ],
   "source": [
    "data"
   ]
  },
  {
   "cell_type": "code",
   "execution_count": 17,
   "id": "18700a60",
   "metadata": {},
   "outputs": [],
   "source": [
    "#what is max and min of length"
   ]
  },
  {
   "cell_type": "code",
   "execution_count": 18,
   "id": "e08b3472",
   "metadata": {},
   "outputs": [
    {
     "data": {
      "text/plain": [
       "array([[1.575 ],\n",
       "       [1.2375],\n",
       "       [1.45  ],\n",
       "       ...,\n",
       "       [1.125 ],\n",
       "       [1.625 ],\n",
       "       [1.5875]])"
      ]
     },
     "execution_count": 18,
     "metadata": {},
     "output_type": "execute_result"
    }
   ],
   "source": [
    "length=data[:,0:1]\n",
    "length"
   ]
  },
  {
   "cell_type": "code",
   "execution_count": 19,
   "id": "056dfffe",
   "metadata": {},
   "outputs": [
    {
     "name": "stdout",
     "output_type": "stream",
     "text": [
      "max of len 7.58349125\n",
      "min of len 0.0\n"
     ]
    }
   ],
   "source": [
    "x=np.max(length)\n",
    "print('max of len',x)\n",
    "x1=np.min(length)\n",
    "print('min of len',x1)"
   ]
  },
  {
   "cell_type": "code",
   "execution_count": 20,
   "id": "3e005c7c",
   "metadata": {},
   "outputs": [],
   "source": [
    "#find the difference between max and min of length "
   ]
  },
  {
   "cell_type": "code",
   "execution_count": 21,
   "id": "91b6bef1",
   "metadata": {},
   "outputs": [
    {
     "name": "stdout",
     "output_type": "stream",
     "text": [
      "difference between max and min of length:  80.10151225\n"
     ]
    }
   ],
   "source": [
    "value=np.max(data)-np.min(data)\n",
    "print('difference between max and min of length: ',value)"
   ]
  },
  {
   "cell_type": "code",
   "execution_count": 22,
   "id": "3f1464d6",
   "metadata": {},
   "outputs": [],
   "source": [
    "#find columnwise avaerage"
   ]
  },
  {
   "cell_type": "code",
   "execution_count": 23,
   "id": "7d92b075",
   "metadata": {},
   "outputs": [
    {
     "data": {
      "text/plain": [
       "array([[1.575 ],\n",
       "       [1.2375],\n",
       "       [1.45  ],\n",
       "       ...,\n",
       "       [1.125 ],\n",
       "       [1.625 ],\n",
       "       [1.5875]])"
      ]
     },
     "execution_count": 23,
     "metadata": {},
     "output_type": "execute_result"
    }
   ],
   "source": [
    "length=data[:,0:1]\n",
    "length"
   ]
  },
  {
   "cell_type": "code",
   "execution_count": 24,
   "id": "e1ef2f34",
   "metadata": {},
   "outputs": [
    {
     "data": {
      "text/plain": [
       "262489.61599125003"
      ]
     },
     "execution_count": 24,
     "metadata": {},
     "output_type": "execute_result"
    }
   ],
   "source": [
    "value=np.sum(length)\n",
    "value"
   ]
  },
  {
   "cell_type": "code",
   "execution_count": 25,
   "id": "bb0bf61f",
   "metadata": {},
   "outputs": [
    {
     "name": "stdout",
     "output_type": "stream",
     "text": [
      "average of length:  1.3124480799562501\n"
     ]
    }
   ],
   "source": [
    "print('average of length: ',value/len(data))"
   ]
  },
  {
   "cell_type": "code",
   "execution_count": 26,
   "id": "edc9d09c",
   "metadata": {},
   "outputs": [
    {
     "data": {
      "text/plain": [
       "array([[1.225 ],\n",
       "       [1.    ],\n",
       "       [1.1625],\n",
       "       ...,\n",
       "       [0.9125],\n",
       "       [1.275 ],\n",
       "       [1.25  ]])"
      ]
     },
     "execution_count": 26,
     "metadata": {},
     "output_type": "execute_result"
    }
   ],
   "source": [
    "diameter=data[:,1:2]\n",
    "diameter"
   ]
  },
  {
   "cell_type": "code",
   "execution_count": 27,
   "id": "ff8588d8",
   "metadata": {},
   "outputs": [
    {
     "name": "stdout",
     "output_type": "stream",
     "text": [
      "average of diameter:  1.020320357165\n"
     ]
    }
   ],
   "source": [
    "value=np.sum(diameter)\n",
    "value\n",
    "print('average of diameter: ',value/len(data))"
   ]
  },
  {
   "cell_type": "code",
   "execution_count": 28,
   "id": "c92d4b5e",
   "metadata": {},
   "outputs": [
    {
     "data": {
      "text/plain": [
       "array([[0.375 ],\n",
       "       [0.375 ],\n",
       "       [0.4125],\n",
       "       ...,\n",
       "       [0.2875],\n",
       "       [0.4125],\n",
       "       [0.3875]])"
      ]
     },
     "execution_count": 28,
     "metadata": {},
     "output_type": "execute_result"
    }
   ],
   "source": [
    "height=data[:,2:3]\n",
    "height"
   ]
  },
  {
   "cell_type": "code",
   "execution_count": 29,
   "id": "54286ed3",
   "metadata": {},
   "outputs": [
    {
     "name": "stdout",
     "output_type": "stream",
     "text": [
      "average of height:  0.34602787104999994\n"
     ]
    }
   ],
   "source": [
    "value=np.sum(height)\n",
    "value\n",
    "print('average of height: ',value/len(data))"
   ]
  },
  {
   "cell_type": "code",
   "execution_count": 30,
   "id": "972ff81c",
   "metadata": {},
   "outputs": [
    {
     "data": {
      "text/plain": [
       "array([[31.22697425],\n",
       "       [21.885814  ],\n",
       "       [28.25027675],\n",
       "       ...,\n",
       "       [10.886208  ],\n",
       "       [33.89182725],\n",
       "       [34.37376875]])"
      ]
     },
     "execution_count": 30,
     "metadata": {},
     "output_type": "execute_result"
    }
   ],
   "source": [
    "weight=data[:,3:4]\n",
    "weight"
   ]
  },
  {
   "cell_type": "code",
   "execution_count": 31,
   "id": "e1591bf1",
   "metadata": {},
   "outputs": [
    {
     "name": "stdout",
     "output_type": "stream",
     "text": [
      "average of weight:  23.123436312982403\n"
     ]
    }
   ],
   "source": [
    "value=np.sum(weight)\n",
    "value\n",
    "print('average of weight: ',value/len(data))"
   ]
  },
  {
   "cell_type": "code",
   "execution_count": 32,
   "id": "158ee71f",
   "metadata": {},
   "outputs": [
    {
     "data": {
      "text/plain": [
       "array([[12.303683  ],\n",
       "       [ 7.654365  ],\n",
       "       [11.12717875],\n",
       "       ...,\n",
       "       [ 4.9044635 ],\n",
       "       [13.19669225],\n",
       "       [17.22232125]])"
      ]
     },
     "execution_count": 32,
     "metadata": {},
     "output_type": "execute_result"
    }
   ],
   "source": [
    "shucked_weight=data[:,4:5]\n",
    "shucked_weight"
   ]
  },
  {
   "cell_type": "code",
   "execution_count": 33,
   "id": "494ab608",
   "metadata": {},
   "outputs": [
    {
     "name": "stdout",
     "output_type": "stream",
     "text": [
      "average of shucked weight:  9.989370248049001\n"
     ]
    }
   ],
   "source": [
    "value=np.sum(shucked_weight)\n",
    "value\n",
    "print('average of shucked weight: ',value/len(data))"
   ]
  },
  {
   "cell_type": "code",
   "execution_count": 34,
   "id": "57ad0401",
   "metadata": {},
   "outputs": [
    {
     "data": {
      "text/plain": [
       "array([[6.3219385 ],\n",
       "       [3.798833  ],\n",
       "       [7.01650125],\n",
       "       ...,\n",
       "       [1.984465  ],\n",
       "       [7.86698625],\n",
       "       [7.38504475]])"
      ]
     },
     "execution_count": 34,
     "metadata": {},
     "output_type": "execute_result"
    }
   ],
   "source": [
    "viscera_weight=data[:,5:6]\n",
    "viscera_weight"
   ]
  },
  {
   "cell_type": "code",
   "execution_count": 35,
   "id": "ac9ba0c6",
   "metadata": {},
   "outputs": [
    {
     "name": "stdout",
     "output_type": "stream",
     "text": [
      "average of viscera weight:  4.993180956748749\n"
     ]
    }
   ],
   "source": [
    "value=np.sum(viscera_weight)\n",
    "value\n",
    "print('average of viscera weight: ',value/len(data))"
   ]
  },
  {
   "cell_type": "code",
   "execution_count": 36,
   "id": "7875c329",
   "metadata": {},
   "outputs": [
    {
     "data": {
      "text/plain": [
       "array([[ 9.63883 ],\n",
       "       [ 7.654365],\n",
       "       [ 7.257472],\n",
       "       ...,\n",
       "       [ 3.118445],\n",
       "       [10.489315],\n",
       "       [ 8.788345]])"
      ]
     },
     "execution_count": 36,
     "metadata": {},
     "output_type": "execute_result"
    }
   ],
   "source": [
    "shell_weight=data[:,6:7]\n",
    "shell_weight"
   ]
  },
  {
   "cell_type": "code",
   "execution_count": 37,
   "id": "1eb324cf",
   "metadata": {},
   "outputs": [
    {
     "name": "stdout",
     "output_type": "stream",
     "text": [
      "average of shell weight:  6.634229147607001\n"
     ]
    }
   ],
   "source": [
    "value=np.sum(shell_weight)\n",
    "value\n",
    "print('average of shell weight: ',value/len(data))"
   ]
  },
  {
   "cell_type": "code",
   "execution_count": 38,
   "id": "ca586e80",
   "metadata": {},
   "outputs": [
    {
     "data": {
      "text/plain": [
       "array([[10.],\n",
       "       [19.],\n",
       "       [11.],\n",
       "       ...,\n",
       "       [ 7.],\n",
       "       [11.],\n",
       "       [11.]])"
      ]
     },
     "execution_count": 38,
     "metadata": {},
     "output_type": "execute_result"
    }
   ],
   "source": [
    "age=data[:,7:8]\n",
    "age"
   ]
  },
  {
   "cell_type": "code",
   "execution_count": 39,
   "id": "636971b8",
   "metadata": {},
   "outputs": [
    {
     "name": "stdout",
     "output_type": "stream",
     "text": [
      "average of age:  9.950615\n"
     ]
    }
   ],
   "source": [
    "value=np.sum(age)\n",
    "value\n",
    "print('average of age: ',value/len(data))"
   ]
  },
  {
   "cell_type": "code",
   "execution_count": 40,
   "id": "4b118401",
   "metadata": {},
   "outputs": [],
   "source": [
    "#find out all the age whose height is >0.4"
   ]
  },
  {
   "cell_type": "code",
   "execution_count": 54,
   "id": "94517ffa",
   "metadata": {},
   "outputs": [],
   "source": [
    "height=data[:,2:3]\n",
    "h=height>0.4"
   ]
  },
  {
   "cell_type": "code",
   "execution_count": 55,
   "id": "7a7710f1",
   "metadata": {},
   "outputs": [
    {
     "ename": "IndexError",
     "evalue": "too many indices for array: array is 1-dimensional, but 2 were indexed",
     "output_type": "error",
     "traceback": [
      "\u001b[1;31m---------------------------------------------------------------------------\u001b[0m",
      "\u001b[1;31mIndexError\u001b[0m                                Traceback (most recent call last)",
      "\u001b[1;32m~\\AppData\\Local\\Temp/ipykernel_8232/1423145652.py\u001b[0m in \u001b[0;36m<module>\u001b[1;34m\u001b[0m\n\u001b[1;32m----> 1\u001b[1;33m \u001b[0mdata\u001b[0m\u001b[1;33m[\u001b[0m\u001b[1;33m:\u001b[0m\u001b[1;33m,\u001b[0m\u001b[1;33m-\u001b[0m\u001b[1;36m1\u001b[0m\u001b[1;33m]\u001b[0m\u001b[1;33m[\u001b[0m\u001b[0mh\u001b[0m\u001b[1;33m]\u001b[0m\u001b[1;33m\u001b[0m\u001b[1;33m\u001b[0m\u001b[0m\n\u001b[0m",
      "\u001b[1;31mIndexError\u001b[0m: too many indices for array: array is 1-dimensional, but 2 were indexed"
     ]
    }
   ],
   "source": [
    "data[:,-1][h]"
   ]
  },
  {
   "cell_type": "code",
   "execution_count": null,
   "id": "56dc04ae",
   "metadata": {},
   "outputs": [],
   "source": []
  },
  {
   "cell_type": "code",
   "execution_count": null,
   "id": "e712915c",
   "metadata": {},
   "outputs": [],
   "source": [
    "#what is the average weight and height of the persons who's age is 10"
   ]
  },
  {
   "cell_type": "code",
   "execution_count": 63,
   "id": "8328ffac",
   "metadata": {},
   "outputs": [
    {
     "data": {
      "text/plain": [
       "2346946.4184032404"
      ]
     },
     "execution_count": 63,
     "metadata": {},
     "output_type": "execute_result"
    }
   ],
   "source": [
    "value=np.sum(weight)+np.sum(height)\n",
    "average=value/2\n",
    "average"
   ]
  },
  {
   "cell_type": "code",
   "execution_count": null,
   "id": "0dbbf1ae",
   "metadata": {},
   "outputs": [],
   "source": []
  },
  {
   "cell_type": "code",
   "execution_count": 43,
   "id": "8ef6de66",
   "metadata": {},
   "outputs": [
    {
     "data": {
      "text/plain": [
       "array([[ 9.63883 ],\n",
       "       [ 7.654365],\n",
       "       [ 7.257472],\n",
       "       ...,\n",
       "       [ 3.118445],\n",
       "       [10.489315],\n",
       "       [ 8.788345]])"
      ]
     },
     "execution_count": 43,
     "metadata": {},
     "output_type": "execute_result"
    }
   ],
   "source": [
    "shell_weight=data[:,6:7]\n",
    "shell_weight"
   ]
  },
  {
   "cell_type": "code",
   "execution_count": null,
   "id": "6b238ad4",
   "metadata": {},
   "outputs": [],
   "source": []
  },
  {
   "cell_type": "code",
   "execution_count": null,
   "id": "29446f68",
   "metadata": {},
   "outputs": [],
   "source": []
  },
  {
   "cell_type": "code",
   "execution_count": 44,
   "id": "2d4eff5a",
   "metadata": {},
   "outputs": [
    {
     "name": "stdout",
     "output_type": "stream",
     "text": [
      "total of shell weight: 1326845.8295214002\n"
     ]
    }
   ],
   "source": [
    "value=np.sum(shell_weight)\n",
    "print('total of shell weight:',value)"
   ]
  },
  {
   "cell_type": "code",
   "execution_count": 45,
   "id": "001bcebb",
   "metadata": {},
   "outputs": [],
   "source": [
    "#how many persons belongs to each & every unique age"
   ]
  },
  {
   "cell_type": "code",
   "execution_count": 46,
   "id": "4526bc3d",
   "metadata": {},
   "outputs": [
    {
     "data": {
      "text/plain": [
       "array([[10.],\n",
       "       [19.],\n",
       "       [11.],\n",
       "       ...,\n",
       "       [ 7.],\n",
       "       [11.],\n",
       "       [11.]])"
      ]
     },
     "execution_count": 46,
     "metadata": {},
     "output_type": "execute_result"
    }
   ],
   "source": [
    "unique_age=data[:,7:8]\n",
    "unique_age"
   ]
  },
  {
   "cell_type": "code",
   "execution_count": 47,
   "id": "74dd264a",
   "metadata": {},
   "outputs": [
    {
     "name": "stdout",
     "output_type": "stream",
     "text": [
      "[0.00000000e+00 1.25000000e-02 1.41747500e-02 ... 7.86964952e+01\n",
      " 7.87974353e+01 8.01015122e+01]\n",
      "[147   4   5 ...   1   3   7]\n",
      "no.of persons belong to age 1:  147\n",
      "no.of persons belong to age 2:  4\n",
      "no.of persons belong to age 3:  5\n",
      "no.of persons belong to age 4:  27\n",
      "no.of persons belong to age 5:  5\n",
      "no.of persons belong to age 6:  30\n",
      "no.of persons belong to age 7:  6\n",
      "no.of persons belong to age 8:  42\n",
      "no.of persons belong to age 9:  8\n",
      "no.of persons belong to age 10:  240\n",
      "no.of persons belong to age 11:  23\n",
      "no.of persons belong to age 12:  185\n",
      "no.of persons belong to age 13:  3\n",
      "no.of persons belong to age 14:  1\n",
      "no.of persons belong to age 15:  4\n",
      "no.of persons belong to age 16:  1\n",
      "no.of persons belong to age 17:  1\n",
      "no.of persons belong to age 18:  2\n",
      "no.of persons belong to age 19:  120\n",
      "no.of persons belong to age 20:  357\n",
      "no.of persons belong to age 21:  247\n",
      "no.of persons belong to age 22:  924\n",
      "no.of persons belong to age 23:  807\n",
      "no.of persons belong to age 24:  49\n",
      "no.of persons belong to age 25:  1\n",
      "no.of persons belong to age 26:  1\n",
      "no.of persons belong to age 27:  772\n",
      "no.of persons belong to age 29:  321\n"
     ]
    }
   ],
   "source": [
    "unique_age,counts_of_age=np.unique(data,return_counts=True)\n",
    "print(unique_age)\n",
    "print(counts_of_age)\n",
    "print('no.of persons belong to age 1: ',counts_of_age[0])\n",
    "print('no.of persons belong to age 2: ',counts_of_age[1])\n",
    "print('no.of persons belong to age 3: ',counts_of_age[2])\n",
    "print('no.of persons belong to age 4: ',counts_of_age[3])\n",
    "print('no.of persons belong to age 5: ',counts_of_age[4])\n",
    "print('no.of persons belong to age 6: ',counts_of_age[5])\n",
    "print('no.of persons belong to age 7: ',counts_of_age[6])\n",
    "print('no.of persons belong to age 8: ',counts_of_age[7])\n",
    "print('no.of persons belong to age 9: ',counts_of_age[8])\n",
    "print('no.of persons belong to age 10: ',counts_of_age[9])\n",
    "print('no.of persons belong to age 11: ',counts_of_age[10])\n",
    "print('no.of persons belong to age 12: ',counts_of_age[11])\n",
    "print('no.of persons belong to age 13: ',counts_of_age[12])\n",
    "print('no.of persons belong to age 14: ',counts_of_age[13])\n",
    "print('no.of persons belong to age 15: ',counts_of_age[14])\n",
    "print('no.of persons belong to age 16: ',counts_of_age[15])\n",
    "print('no.of persons belong to age 17: ',counts_of_age[16])\n",
    "print('no.of persons belong to age 18: ',counts_of_age[17])\n",
    "print('no.of persons belong to age 19: ',counts_of_age[18])\n",
    "print('no.of persons belong to age 20: ',counts_of_age[19])\n",
    "print('no.of persons belong to age 21: ',counts_of_age[20])\n",
    "print('no.of persons belong to age 22: ',counts_of_age[21])\n",
    "print('no.of persons belong to age 23: ',counts_of_age[22])\n",
    "print('no.of persons belong to age 24: ',counts_of_age[23])\n",
    "print('no.of persons belong to age 25: ',counts_of_age[24])\n",
    "print('no.of persons belong to age 26: ',counts_of_age[25])\n",
    "print('no.of persons belong to age 27: ',counts_of_age[26])\n",
    "print('no.of persons belong to age 29: ',counts_of_age[27])"
   ]
  },
  {
   "cell_type": "code",
   "execution_count": 48,
   "id": "df91dc1d",
   "metadata": {},
   "outputs": [],
   "source": [
    "#what is the difference between shucked weight and viscuse weight"
   ]
  },
  {
   "cell_type": "code",
   "execution_count": 49,
   "id": "ee9467a4",
   "metadata": {},
   "outputs": [
    {
     "data": {
      "text/plain": [
       "array([[12.303683  ],\n",
       "       [ 7.654365  ],\n",
       "       [11.12717875],\n",
       "       ...,\n",
       "       [ 4.9044635 ],\n",
       "       [13.19669225],\n",
       "       [17.22232125]])"
      ]
     },
     "execution_count": 49,
     "metadata": {},
     "output_type": "execute_result"
    }
   ],
   "source": [
    "data1=data[:,4:5]\n",
    "data1"
   ]
  },
  {
   "cell_type": "code",
   "execution_count": 50,
   "id": "c73b3398",
   "metadata": {},
   "outputs": [
    {
     "data": {
      "text/plain": [
       "array([[6.3219385 ],\n",
       "       [3.798833  ],\n",
       "       [7.01650125],\n",
       "       ...,\n",
       "       [1.984465  ],\n",
       "       [7.86698625],\n",
       "       [7.38504475]])"
      ]
     },
     "execution_count": 50,
     "metadata": {},
     "output_type": "execute_result"
    }
   ],
   "source": [
    "data2=data[:,5:6]\n",
    "data2"
   ]
  },
  {
   "cell_type": "code",
   "execution_count": 51,
   "id": "3529a20a",
   "metadata": {},
   "outputs": [
    {
     "name": "stdout",
     "output_type": "stream",
     "text": [
      "difference between shucked weight and viscuse weight:  999237.8582600503\n"
     ]
    }
   ],
   "source": [
    "value=np.sum(data1)-np.sum(data2)\n",
    "print('difference between shucked weight and viscuse weight: ',value)"
   ]
  },
  {
   "cell_type": "code",
   "execution_count": 38,
   "id": "8f341e2c",
   "metadata": {},
   "outputs": [],
   "source": [
    "#what is the average weight if we include shucked weight,viscera weight and shell weight"
   ]
  },
  {
   "cell_type": "code",
   "execution_count": 70,
   "id": "3013f7c3",
   "metadata": {},
   "outputs": [
    {
     "data": {
      "text/plain": [
       "array([[ 9.63883 ],\n",
       "       [ 7.654365],\n",
       "       [ 7.257472],\n",
       "       ...,\n",
       "       [ 3.118445],\n",
       "       [10.489315],\n",
       "       [ 8.788345]])"
      ]
     },
     "execution_count": 70,
     "metadata": {},
     "output_type": "execute_result"
    }
   ],
   "source": [
    "data3=data[:,6:7]\n",
    "data3"
   ]
  },
  {
   "cell_type": "code",
   "execution_count": 71,
   "id": "b7db5301",
   "metadata": {},
   "outputs": [
    {
     "name": "stdout",
     "output_type": "stream",
     "text": [
      "average weight if we include shucked weight and viscera weight and shell weight:  1441118.6901603166\n"
     ]
    }
   ],
   "source": [
    "value=np.sum(data1)+np.sum(data2)+np.sum(data3)\n",
    "print('average weight if we include shucked weight and viscera weight and shell weight: ',value/3)"
   ]
  },
  {
   "cell_type": "code",
   "execution_count": null,
   "id": "f26f2732",
   "metadata": {},
   "outputs": [],
   "source": []
  }
 ],
 "metadata": {
  "kernelspec": {
   "display_name": "Python 3 (ipykernel)",
   "language": "python",
   "name": "python3"
  },
  "language_info": {
   "codemirror_mode": {
    "name": "ipython",
    "version": 3
   },
   "file_extension": ".py",
   "mimetype": "text/x-python",
   "name": "python",
   "nbconvert_exporter": "python",
   "pygments_lexer": "ipython3",
   "version": "3.9.7"
  }
 },
 "nbformat": 4,
 "nbformat_minor": 5
}
