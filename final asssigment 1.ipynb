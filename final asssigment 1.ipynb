{
 "cells": [
  {
   "cell_type": "code",
   "execution_count": null,
   "id": "a33cb71a",
   "metadata": {},
   "outputs": [],
   "source": []
  },
  {
   "cell_type": "code",
   "execution_count": 1,
   "id": "8b448a28",
   "metadata": {},
   "outputs": [],
   "source": [
    "import numpy as np"
   ]
  },
  {
   "cell_type": "code",
   "execution_count": 3,
   "id": "a9684ca2",
   "metadata": {},
   "outputs": [],
   "source": [
    "data=np.genfromtxt(r\"C:\\Users\\DELL\\Downloads\\tipsf.csv\",skip_header=1,delimiter=',')"
   ]
  },
  {
   "cell_type": "code",
   "execution_count": 4,
   "id": "ff1b1727",
   "metadata": {},
   "outputs": [
    {
     "data": {
      "text/plain": [
       "array([[  0.  ,  16.99,   1.01, ...,   1.  ,   0.  ,   2.  ],\n",
       "       [  1.  ,  10.34,   1.66, ...,   1.  ,   0.  ,   3.  ],\n",
       "       [  2.  ,  21.01,   3.5 , ...,   1.  ,   0.  ,   3.  ],\n",
       "       ...,\n",
       "       [241.  ,  22.67,   2.  , ...,   0.  ,   0.  ,   2.  ],\n",
       "       [242.  ,  17.82,   1.75, ...,   0.  ,   0.  ,   2.  ],\n",
       "       [243.  ,  18.78,   3.  , ...,   2.  ,   0.  ,   2.  ]])"
      ]
     },
     "execution_count": 4,
     "metadata": {},
     "output_type": "execute_result"
    }
   ],
   "source": [
    "data"
   ]
  },
  {
   "cell_type": "code",
   "execution_count": 10,
   "id": "9ffea0ad",
   "metadata": {},
   "outputs": [],
   "source": [
    "#what is the total bill value"
   ]
  },
  {
   "cell_type": "code",
   "execution_count": 53,
   "id": "550b4125",
   "metadata": {},
   "outputs": [
    {
     "data": {
      "text/plain": [
       "array([[16.99],\n",
       "       [10.34],\n",
       "       [21.01],\n",
       "       [23.68],\n",
       "       [24.59],\n",
       "       [25.29],\n",
       "       [ 8.77],\n",
       "       [26.88],\n",
       "       [15.04],\n",
       "       [14.78],\n",
       "       [10.27],\n",
       "       [35.26],\n",
       "       [15.42],\n",
       "       [18.43],\n",
       "       [14.83],\n",
       "       [21.58],\n",
       "       [10.33],\n",
       "       [16.29],\n",
       "       [16.97],\n",
       "       [20.65],\n",
       "       [17.92],\n",
       "       [20.29],\n",
       "       [15.77],\n",
       "       [39.42],\n",
       "       [19.82],\n",
       "       [17.81],\n",
       "       [13.37],\n",
       "       [12.69],\n",
       "       [21.7 ],\n",
       "       [19.65],\n",
       "       [ 9.55],\n",
       "       [18.35],\n",
       "       [15.06],\n",
       "       [20.69],\n",
       "       [17.78],\n",
       "       [24.06],\n",
       "       [16.31],\n",
       "       [16.93],\n",
       "       [18.69],\n",
       "       [31.27],\n",
       "       [16.04],\n",
       "       [17.46],\n",
       "       [13.94],\n",
       "       [ 9.68],\n",
       "       [30.4 ],\n",
       "       [18.29],\n",
       "       [22.23],\n",
       "       [32.4 ],\n",
       "       [28.55],\n",
       "       [18.04],\n",
       "       [12.54],\n",
       "       [10.29],\n",
       "       [34.81],\n",
       "       [ 9.94],\n",
       "       [25.56],\n",
       "       [19.49],\n",
       "       [38.01],\n",
       "       [26.41],\n",
       "       [11.24],\n",
       "       [48.27],\n",
       "       [20.29],\n",
       "       [13.81],\n",
       "       [11.02],\n",
       "       [18.29],\n",
       "       [17.59],\n",
       "       [20.08],\n",
       "       [16.45],\n",
       "       [ 3.07],\n",
       "       [20.23],\n",
       "       [15.01],\n",
       "       [12.02],\n",
       "       [17.07],\n",
       "       [26.86],\n",
       "       [25.28],\n",
       "       [14.73],\n",
       "       [10.51],\n",
       "       [17.92],\n",
       "       [27.2 ],\n",
       "       [22.76],\n",
       "       [17.29],\n",
       "       [19.44],\n",
       "       [16.66],\n",
       "       [10.07],\n",
       "       [32.68],\n",
       "       [15.98],\n",
       "       [34.83],\n",
       "       [13.03],\n",
       "       [18.28],\n",
       "       [24.71],\n",
       "       [21.16],\n",
       "       [28.97],\n",
       "       [22.49],\n",
       "       [ 5.75],\n",
       "       [16.32],\n",
       "       [22.75],\n",
       "       [40.17],\n",
       "       [27.28],\n",
       "       [12.03],\n",
       "       [21.01],\n",
       "       [12.46],\n",
       "       [11.35],\n",
       "       [15.38],\n",
       "       [44.3 ],\n",
       "       [22.42],\n",
       "       [20.92],\n",
       "       [15.36],\n",
       "       [20.49],\n",
       "       [25.21],\n",
       "       [18.24],\n",
       "       [14.31],\n",
       "       [14.  ],\n",
       "       [ 7.25],\n",
       "       [38.07],\n",
       "       [23.95],\n",
       "       [25.71],\n",
       "       [17.31],\n",
       "       [29.93],\n",
       "       [10.65],\n",
       "       [12.43],\n",
       "       [24.08],\n",
       "       [11.69],\n",
       "       [13.42],\n",
       "       [14.26],\n",
       "       [15.95],\n",
       "       [12.48],\n",
       "       [29.8 ],\n",
       "       [ 8.52],\n",
       "       [14.52],\n",
       "       [11.38],\n",
       "       [22.82],\n",
       "       [19.08],\n",
       "       [20.27],\n",
       "       [11.17],\n",
       "       [12.26],\n",
       "       [18.26],\n",
       "       [ 8.51],\n",
       "       [10.33],\n",
       "       [14.15],\n",
       "       [16.  ],\n",
       "       [13.16],\n",
       "       [17.47],\n",
       "       [34.3 ],\n",
       "       [41.19],\n",
       "       [27.05],\n",
       "       [16.43],\n",
       "       [ 8.35],\n",
       "       [18.64],\n",
       "       [11.87],\n",
       "       [ 9.78],\n",
       "       [ 7.51],\n",
       "       [14.07],\n",
       "       [13.13],\n",
       "       [17.26],\n",
       "       [24.55],\n",
       "       [19.77],\n",
       "       [29.85],\n",
       "       [48.17],\n",
       "       [25.  ],\n",
       "       [13.39],\n",
       "       [16.49],\n",
       "       [21.5 ],\n",
       "       [12.66],\n",
       "       [16.21],\n",
       "       [13.81],\n",
       "       [17.51],\n",
       "       [24.52],\n",
       "       [20.76],\n",
       "       [31.71],\n",
       "       [10.59],\n",
       "       [10.63],\n",
       "       [50.81],\n",
       "       [15.81],\n",
       "       [ 7.25],\n",
       "       [31.85],\n",
       "       [16.82],\n",
       "       [32.9 ],\n",
       "       [17.89],\n",
       "       [14.48],\n",
       "       [ 9.6 ],\n",
       "       [34.63],\n",
       "       [34.65],\n",
       "       [23.33],\n",
       "       [45.35],\n",
       "       [23.17],\n",
       "       [40.55],\n",
       "       [20.69],\n",
       "       [20.9 ],\n",
       "       [30.46],\n",
       "       [18.15],\n",
       "       [23.1 ],\n",
       "       [15.69],\n",
       "       [19.81],\n",
       "       [28.44],\n",
       "       [15.48],\n",
       "       [16.58],\n",
       "       [ 7.56],\n",
       "       [10.34],\n",
       "       [43.11],\n",
       "       [13.  ],\n",
       "       [13.51],\n",
       "       [18.71],\n",
       "       [12.74],\n",
       "       [13.  ],\n",
       "       [16.4 ],\n",
       "       [20.53],\n",
       "       [16.47],\n",
       "       [26.59],\n",
       "       [38.73],\n",
       "       [24.27],\n",
       "       [12.76],\n",
       "       [30.06],\n",
       "       [25.89],\n",
       "       [48.33],\n",
       "       [13.27],\n",
       "       [28.17],\n",
       "       [12.9 ],\n",
       "       [28.15],\n",
       "       [11.59],\n",
       "       [ 7.74],\n",
       "       [30.14],\n",
       "       [12.16],\n",
       "       [13.42],\n",
       "       [ 8.58],\n",
       "       [15.98],\n",
       "       [13.42],\n",
       "       [16.27],\n",
       "       [10.09],\n",
       "       [20.45],\n",
       "       [13.28],\n",
       "       [22.12],\n",
       "       [24.01],\n",
       "       [15.69],\n",
       "       [11.61],\n",
       "       [10.77],\n",
       "       [15.53],\n",
       "       [10.07],\n",
       "       [12.6 ],\n",
       "       [32.83],\n",
       "       [35.83],\n",
       "       [29.03],\n",
       "       [27.18],\n",
       "       [22.67],\n",
       "       [17.82],\n",
       "       [18.78]])"
      ]
     },
     "execution_count": 53,
     "metadata": {},
     "output_type": "execute_result"
    }
   ],
   "source": [
    "total_bill=data[:,1:2]\n",
    "total_bill"
   ]
  },
  {
   "cell_type": "code",
   "execution_count": 54,
   "id": "fda53c4a",
   "metadata": {},
   "outputs": [
    {
     "data": {
      "text/plain": [
       "4827.77"
      ]
     },
     "execution_count": 54,
     "metadata": {},
     "output_type": "execute_result"
    }
   ],
   "source": [
    "np.sum(total_bill)"
   ]
  },
  {
   "cell_type": "code",
   "execution_count": 24,
   "id": "d204fcca",
   "metadata": {},
   "outputs": [],
   "source": [
    "#what is total tip value"
   ]
  },
  {
   "cell_type": "code",
   "execution_count": 56,
   "id": "feaa017c",
   "metadata": {},
   "outputs": [
    {
     "data": {
      "text/plain": [
       "array([[ 1.01],\n",
       "       [ 1.66],\n",
       "       [ 3.5 ],\n",
       "       [ 3.31],\n",
       "       [ 3.61],\n",
       "       [ 4.71],\n",
       "       [ 2.  ],\n",
       "       [ 3.12],\n",
       "       [ 1.96],\n",
       "       [ 3.23],\n",
       "       [ 1.71],\n",
       "       [ 5.  ],\n",
       "       [ 1.57],\n",
       "       [ 3.  ],\n",
       "       [ 3.02],\n",
       "       [ 3.92],\n",
       "       [ 1.67],\n",
       "       [ 3.71],\n",
       "       [ 3.5 ],\n",
       "       [ 3.35],\n",
       "       [ 4.08],\n",
       "       [ 2.75],\n",
       "       [ 2.23],\n",
       "       [ 7.58],\n",
       "       [ 3.18],\n",
       "       [ 2.34],\n",
       "       [ 2.  ],\n",
       "       [ 2.  ],\n",
       "       [ 4.3 ],\n",
       "       [ 3.  ],\n",
       "       [ 1.45],\n",
       "       [ 2.5 ],\n",
       "       [ 3.  ],\n",
       "       [ 2.45],\n",
       "       [ 3.27],\n",
       "       [ 3.6 ],\n",
       "       [ 2.  ],\n",
       "       [ 3.07],\n",
       "       [ 2.31],\n",
       "       [ 5.  ],\n",
       "       [ 2.24],\n",
       "       [ 2.54],\n",
       "       [ 3.06],\n",
       "       [ 1.32],\n",
       "       [ 5.6 ],\n",
       "       [ 3.  ],\n",
       "       [ 5.  ],\n",
       "       [ 6.  ],\n",
       "       [ 2.05],\n",
       "       [ 3.  ],\n",
       "       [ 2.5 ],\n",
       "       [ 2.6 ],\n",
       "       [ 5.2 ],\n",
       "       [ 1.56],\n",
       "       [ 4.34],\n",
       "       [ 3.51],\n",
       "       [ 3.  ],\n",
       "       [ 1.5 ],\n",
       "       [ 1.76],\n",
       "       [ 6.73],\n",
       "       [ 3.21],\n",
       "       [ 2.  ],\n",
       "       [ 1.98],\n",
       "       [ 3.76],\n",
       "       [ 2.64],\n",
       "       [ 3.15],\n",
       "       [ 2.47],\n",
       "       [ 1.  ],\n",
       "       [ 2.01],\n",
       "       [ 2.09],\n",
       "       [ 1.97],\n",
       "       [ 3.  ],\n",
       "       [ 3.14],\n",
       "       [ 5.  ],\n",
       "       [ 2.2 ],\n",
       "       [ 1.25],\n",
       "       [ 3.08],\n",
       "       [ 4.  ],\n",
       "       [ 3.  ],\n",
       "       [ 2.71],\n",
       "       [ 3.  ],\n",
       "       [ 3.4 ],\n",
       "       [ 1.83],\n",
       "       [ 5.  ],\n",
       "       [ 2.03],\n",
       "       [ 5.17],\n",
       "       [ 2.  ],\n",
       "       [ 4.  ],\n",
       "       [ 5.85],\n",
       "       [ 3.  ],\n",
       "       [ 3.  ],\n",
       "       [ 3.5 ],\n",
       "       [ 1.  ],\n",
       "       [ 4.3 ],\n",
       "       [ 3.25],\n",
       "       [ 4.73],\n",
       "       [ 4.  ],\n",
       "       [ 1.5 ],\n",
       "       [ 3.  ],\n",
       "       [ 1.5 ],\n",
       "       [ 2.5 ],\n",
       "       [ 3.  ],\n",
       "       [ 2.5 ],\n",
       "       [ 3.48],\n",
       "       [ 4.08],\n",
       "       [ 1.64],\n",
       "       [ 4.06],\n",
       "       [ 4.29],\n",
       "       [ 3.76],\n",
       "       [ 4.  ],\n",
       "       [ 3.  ],\n",
       "       [ 1.  ],\n",
       "       [ 4.  ],\n",
       "       [ 2.55],\n",
       "       [ 4.  ],\n",
       "       [ 3.5 ],\n",
       "       [ 5.07],\n",
       "       [ 1.5 ],\n",
       "       [ 1.8 ],\n",
       "       [ 2.92],\n",
       "       [ 2.31],\n",
       "       [ 1.68],\n",
       "       [ 2.5 ],\n",
       "       [ 2.  ],\n",
       "       [ 2.52],\n",
       "       [ 4.2 ],\n",
       "       [ 1.48],\n",
       "       [ 2.  ],\n",
       "       [ 2.  ],\n",
       "       [ 2.18],\n",
       "       [ 1.5 ],\n",
       "       [ 2.83],\n",
       "       [ 1.5 ],\n",
       "       [ 2.  ],\n",
       "       [ 3.25],\n",
       "       [ 1.25],\n",
       "       [ 2.  ],\n",
       "       [ 2.  ],\n",
       "       [ 2.  ],\n",
       "       [ 2.75],\n",
       "       [ 3.5 ],\n",
       "       [ 6.7 ],\n",
       "       [ 5.  ],\n",
       "       [ 5.  ],\n",
       "       [ 2.3 ],\n",
       "       [ 1.5 ],\n",
       "       [ 1.36],\n",
       "       [ 1.63],\n",
       "       [ 1.73],\n",
       "       [ 2.  ],\n",
       "       [ 2.5 ],\n",
       "       [ 2.  ],\n",
       "       [ 2.74],\n",
       "       [ 2.  ],\n",
       "       [ 2.  ],\n",
       "       [ 5.14],\n",
       "       [ 5.  ],\n",
       "       [ 3.75],\n",
       "       [ 2.61],\n",
       "       [ 2.  ],\n",
       "       [ 3.5 ],\n",
       "       [ 2.5 ],\n",
       "       [ 2.  ],\n",
       "       [ 2.  ],\n",
       "       [ 3.  ],\n",
       "       [ 3.48],\n",
       "       [ 2.24],\n",
       "       [ 4.5 ],\n",
       "       [ 1.61],\n",
       "       [ 2.  ],\n",
       "       [10.  ],\n",
       "       [ 3.16],\n",
       "       [ 5.15],\n",
       "       [ 3.18],\n",
       "       [ 4.  ],\n",
       "       [ 3.11],\n",
       "       [ 2.  ],\n",
       "       [ 2.  ],\n",
       "       [ 4.  ],\n",
       "       [ 3.55],\n",
       "       [ 3.68],\n",
       "       [ 5.65],\n",
       "       [ 3.5 ],\n",
       "       [ 6.5 ],\n",
       "       [ 3.  ],\n",
       "       [ 5.  ],\n",
       "       [ 3.5 ],\n",
       "       [ 2.  ],\n",
       "       [ 3.5 ],\n",
       "       [ 4.  ],\n",
       "       [ 1.5 ],\n",
       "       [ 4.19],\n",
       "       [ 2.56],\n",
       "       [ 2.02],\n",
       "       [ 4.  ],\n",
       "       [ 1.44],\n",
       "       [ 2.  ],\n",
       "       [ 5.  ],\n",
       "       [ 2.  ],\n",
       "       [ 2.  ],\n",
       "       [ 4.  ],\n",
       "       [ 2.01],\n",
       "       [ 2.  ],\n",
       "       [ 2.5 ],\n",
       "       [ 4.  ],\n",
       "       [ 3.23],\n",
       "       [ 3.41],\n",
       "       [ 3.  ],\n",
       "       [ 2.03],\n",
       "       [ 2.23],\n",
       "       [ 2.  ],\n",
       "       [ 5.16],\n",
       "       [ 9.  ],\n",
       "       [ 2.5 ],\n",
       "       [ 6.5 ],\n",
       "       [ 1.1 ],\n",
       "       [ 3.  ],\n",
       "       [ 1.5 ],\n",
       "       [ 1.44],\n",
       "       [ 3.09],\n",
       "       [ 2.2 ],\n",
       "       [ 3.48],\n",
       "       [ 1.92],\n",
       "       [ 3.  ],\n",
       "       [ 1.58],\n",
       "       [ 2.5 ],\n",
       "       [ 2.  ],\n",
       "       [ 3.  ],\n",
       "       [ 2.72],\n",
       "       [ 2.88],\n",
       "       [ 2.  ],\n",
       "       [ 3.  ],\n",
       "       [ 3.39],\n",
       "       [ 1.47],\n",
       "       [ 3.  ],\n",
       "       [ 1.25],\n",
       "       [ 1.  ],\n",
       "       [ 1.17],\n",
       "       [ 4.67],\n",
       "       [ 5.92],\n",
       "       [ 2.  ],\n",
       "       [ 2.  ],\n",
       "       [ 1.75],\n",
       "       [ 3.  ]])"
      ]
     },
     "execution_count": 56,
     "metadata": {},
     "output_type": "execute_result"
    }
   ],
   "source": [
    "total_tip=data[:,2:3]\n",
    "total_tip"
   ]
  },
  {
   "cell_type": "code",
   "execution_count": 57,
   "id": "58f6f458",
   "metadata": {},
   "outputs": [
    {
     "data": {
      "text/plain": [
       "731.5799999999999"
      ]
     },
     "execution_count": 57,
     "metadata": {},
     "output_type": "execute_result"
    }
   ],
   "source": [
    "np.sum(total_tip)"
   ]
  },
  {
   "cell_type": "code",
   "execution_count": null,
   "id": "70aa0798",
   "metadata": {},
   "outputs": [],
   "source": [
    "#count how many sundays,saturday,thrusday,fridays are there"
   ]
  },
  {
   "cell_type": "code",
   "execution_count": 6,
   "id": "5495b768",
   "metadata": {},
   "outputs": [
    {
     "name": "stdout",
     "output_type": "stream",
     "text": [
      "[0. 1. 2. 3.]\n",
      "[87 76 62 19]\n"
     ]
    }
   ],
   "source": [
    "unique,counts=np.unique(data[:,5],return_counts=True)\n",
    "print(unique)\n",
    "print(counts)"
   ]
  },
  {
   "cell_type": "code",
   "execution_count": 9,
   "id": "2abab9f1",
   "metadata": {},
   "outputs": [
    {
     "name": "stdout",
     "output_type": "stream",
     "text": [
      "sudays are:  87\n",
      "saturdays are:  76\n",
      "thrusdays are:  62\n",
      "friday are:  19\n"
     ]
    }
   ],
   "source": [
    "sun=counts[0]\n",
    "sat=counts[1]\n",
    "thrus=counts[2]\n",
    "fri=counts[3]\n",
    "print('sudays are: ',sun)\n",
    "print('saturdays are: ',sat)\n",
    "print('thrusdays are: ',thrus)\n",
    "print('friday are: ',fri)"
   ]
  },
  {
   "cell_type": "code",
   "execution_count": null,
   "id": "34ed3cb5",
   "metadata": {},
   "outputs": [],
   "source": [
    "#how many smokers are there"
   ]
  },
  {
   "cell_type": "code",
   "execution_count": 67,
   "id": "7743e11a",
   "metadata": {},
   "outputs": [
    {
     "name": "stdout",
     "output_type": "stream",
     "text": [
      "somkers are 93\n"
     ]
    }
   ],
   "source": [
    "count=np.count_nonzero(data[:,4])\n",
    "print('somkers are',count)"
   ]
  },
  {
   "cell_type": "code",
   "execution_count": 68,
   "id": "28e41e02",
   "metadata": {},
   "outputs": [],
   "source": [
    "#what is average tip is given by male and female"
   ]
  },
  {
   "cell_type": "code",
   "execution_count": 61,
   "id": "4da209f7",
   "metadata": {},
   "outputs": [],
   "source": [
    "y=(data[:,1:2])\n",
    "z=(data[:,3:4])"
   ]
  },
  {
   "cell_type": "code",
   "execution_count": 84,
   "id": "e0bea911",
   "metadata": {},
   "outputs": [
    {
     "name": "stdout",
     "output_type": "stream",
     "text": [
      "[0. 1.]\n",
      "[151  93]\n"
     ]
    }
   ],
   "source": [
    "unique,counts=np.unique(data[:,4],return_counts=True)\n",
    "print(unique)\n",
    "print(counts)"
   ]
  },
  {
   "cell_type": "code",
   "execution_count": 47,
   "id": "d828b17a",
   "metadata": {},
   "outputs": [
    {
     "name": "stdout",
     "output_type": "stream",
     "text": [
      "males are: 151\n",
      "females are: 93\n"
     ]
    }
   ],
   "source": [
    "male=counts[0]\n",
    "print('males are:',male)\n",
    "female=counts[1]\n",
    "print('females are:',female)"
   ]
  },
  {
   "cell_type": "code",
   "execution_count": 14,
   "id": "160f3f5f",
   "metadata": {},
   "outputs": [],
   "source": [
    "#how much amount spent by female and male"
   ]
  },
  {
   "cell_type": "code",
   "execution_count": null,
   "id": "b35fd79e",
   "metadata": {},
   "outputs": [],
   "source": []
  },
  {
   "cell_type": "code",
   "execution_count": 78,
   "id": "4d4b9ed9",
   "metadata": {},
   "outputs": [],
   "source": [
    "#what is the min and max tip given"
   ]
  },
  {
   "cell_type": "code",
   "execution_count": 79,
   "id": "b1e71b95",
   "metadata": {},
   "outputs": [
    {
     "name": "stdout",
     "output_type": "stream",
     "text": [
      "maximum tip is: 10.0\n",
      "minimum tip is: 1.0\n"
     ]
    }
   ],
   "source": [
    "x=np.max(total_tip)\n",
    "print('maximum tip is:',x)\n",
    "x1=np.min(total_tip)\n",
    "print('minimum tip is:',x1)"
   ]
  },
  {
   "cell_type": "code",
   "execution_count": 20,
   "id": "96314354",
   "metadata": {},
   "outputs": [],
   "source": [
    "#how many male and female are going for dinner and lunch"
   ]
  },
  {
   "cell_type": "code",
   "execution_count": 72,
   "id": "58eac562",
   "metadata": {},
   "outputs": [
    {
     "name": "stdout",
     "output_type": "stream",
     "text": [
      "[0. 1.]\n",
      "[176  68]\n"
     ]
    }
   ],
   "source": [
    "unique,counts=np.unique(data[:,6],return_counts=True)\n",
    "print(unique)\n",
    "print(counts)"
   ]
  },
  {
   "cell_type": "code",
   "execution_count": 73,
   "id": "e9d749ba",
   "metadata": {},
   "outputs": [
    {
     "name": "stdout",
     "output_type": "stream",
     "text": [
      "dinner: 176\n",
      "lunch : 68\n"
     ]
    }
   ],
   "source": [
    "dinner=counts[0]\n",
    "print('dinner:',dinner)\n",
    "lunch=counts[1]\n",
    "print('lunch :',lunch)"
   ]
  },
  {
   "cell_type": "code",
   "execution_count": 77,
   "id": "65c9086d",
   "metadata": {},
   "outputs": [
    {
     "ename": "IndexError",
     "evalue": "invalid index to scalar variable.",
     "output_type": "error",
     "traceback": [
      "\u001b[1;31m---------------------------------------------------------------------------\u001b[0m",
      "\u001b[1;31mIndexError\u001b[0m                                Traceback (most recent call last)",
      "\u001b[1;32m~\\AppData\\Local\\Temp/ipykernel_9716/255263898.py\u001b[0m in \u001b[0;36m<module>\u001b[1;34m\u001b[0m\n\u001b[1;32m----> 1\u001b[1;33m \u001b[0mmale\u001b[0m\u001b[1;33m[\u001b[0m\u001b[1;33m:\u001b[0m\u001b[1;36m1\u001b[0m\u001b[1;33m]\u001b[0m\u001b[1;33m\u001b[0m\u001b[1;33m\u001b[0m\u001b[0m\n\u001b[0m",
      "\u001b[1;31mIndexError\u001b[0m: invalid index to scalar variable."
     ]
    }
   ],
   "source": [
    "male[:1]"
   ]
  },
  {
   "cell_type": "code",
   "execution_count": 21,
   "id": "0755e36b",
   "metadata": {},
   "outputs": [],
   "source": [
    "#find out average size"
   ]
  },
  {
   "cell_type": "code",
   "execution_count": 28,
   "id": "c6d865d4",
   "metadata": {},
   "outputs": [
    {
     "data": {
      "text/plain": [
       "array([[2.],\n",
       "       [3.],\n",
       "       [3.],\n",
       "       [2.],\n",
       "       [4.],\n",
       "       [4.],\n",
       "       [2.],\n",
       "       [4.],\n",
       "       [2.],\n",
       "       [2.],\n",
       "       [2.],\n",
       "       [4.],\n",
       "       [2.],\n",
       "       [4.],\n",
       "       [2.],\n",
       "       [2.],\n",
       "       [3.],\n",
       "       [3.],\n",
       "       [3.],\n",
       "       [3.],\n",
       "       [2.],\n",
       "       [2.],\n",
       "       [2.],\n",
       "       [4.],\n",
       "       [2.],\n",
       "       [4.],\n",
       "       [2.],\n",
       "       [2.],\n",
       "       [2.],\n",
       "       [2.],\n",
       "       [2.],\n",
       "       [4.],\n",
       "       [2.],\n",
       "       [4.],\n",
       "       [2.],\n",
       "       [3.],\n",
       "       [3.],\n",
       "       [3.],\n",
       "       [3.],\n",
       "       [3.],\n",
       "       [3.],\n",
       "       [2.],\n",
       "       [2.],\n",
       "       [2.],\n",
       "       [4.],\n",
       "       [2.],\n",
       "       [2.],\n",
       "       [4.],\n",
       "       [3.],\n",
       "       [2.],\n",
       "       [2.],\n",
       "       [2.],\n",
       "       [4.],\n",
       "       [2.],\n",
       "       [4.],\n",
       "       [2.],\n",
       "       [4.],\n",
       "       [2.],\n",
       "       [2.],\n",
       "       [4.],\n",
       "       [2.],\n",
       "       [2.],\n",
       "       [2.],\n",
       "       [4.],\n",
       "       [3.],\n",
       "       [3.],\n",
       "       [2.],\n",
       "       [1.],\n",
       "       [2.],\n",
       "       [2.],\n",
       "       [2.],\n",
       "       [3.],\n",
       "       [2.],\n",
       "       [2.],\n",
       "       [2.],\n",
       "       [2.],\n",
       "       [2.],\n",
       "       [4.],\n",
       "       [2.],\n",
       "       [2.],\n",
       "       [2.],\n",
       "       [2.],\n",
       "       [1.],\n",
       "       [2.],\n",
       "       [2.],\n",
       "       [4.],\n",
       "       [2.],\n",
       "       [2.],\n",
       "       [2.],\n",
       "       [2.],\n",
       "       [2.],\n",
       "       [2.],\n",
       "       [2.],\n",
       "       [2.],\n",
       "       [2.],\n",
       "       [4.],\n",
       "       [2.],\n",
       "       [2.],\n",
       "       [2.],\n",
       "       [2.],\n",
       "       [2.],\n",
       "       [2.],\n",
       "       [3.],\n",
       "       [2.],\n",
       "       [2.],\n",
       "       [2.],\n",
       "       [2.],\n",
       "       [2.],\n",
       "       [2.],\n",
       "       [2.],\n",
       "       [2.],\n",
       "       [1.],\n",
       "       [3.],\n",
       "       [2.],\n",
       "       [3.],\n",
       "       [2.],\n",
       "       [4.],\n",
       "       [2.],\n",
       "       [2.],\n",
       "       [4.],\n",
       "       [2.],\n",
       "       [2.],\n",
       "       [2.],\n",
       "       [2.],\n",
       "       [2.],\n",
       "       [6.],\n",
       "       [2.],\n",
       "       [2.],\n",
       "       [2.],\n",
       "       [3.],\n",
       "       [2.],\n",
       "       [2.],\n",
       "       [2.],\n",
       "       [2.],\n",
       "       [2.],\n",
       "       [2.],\n",
       "       [2.],\n",
       "       [2.],\n",
       "       [2.],\n",
       "       [2.],\n",
       "       [2.],\n",
       "       [6.],\n",
       "       [5.],\n",
       "       [6.],\n",
       "       [2.],\n",
       "       [2.],\n",
       "       [3.],\n",
       "       [2.],\n",
       "       [2.],\n",
       "       [2.],\n",
       "       [2.],\n",
       "       [2.],\n",
       "       [3.],\n",
       "       [4.],\n",
       "       [4.],\n",
       "       [5.],\n",
       "       [6.],\n",
       "       [4.],\n",
       "       [2.],\n",
       "       [4.],\n",
       "       [4.],\n",
       "       [2.],\n",
       "       [3.],\n",
       "       [2.],\n",
       "       [2.],\n",
       "       [3.],\n",
       "       [2.],\n",
       "       [4.],\n",
       "       [2.],\n",
       "       [2.],\n",
       "       [3.],\n",
       "       [2.],\n",
       "       [2.],\n",
       "       [2.],\n",
       "       [2.],\n",
       "       [2.],\n",
       "       [2.],\n",
       "       [2.],\n",
       "       [2.],\n",
       "       [2.],\n",
       "       [4.],\n",
       "       [2.],\n",
       "       [3.],\n",
       "       [4.],\n",
       "       [2.],\n",
       "       [5.],\n",
       "       [3.],\n",
       "       [5.],\n",
       "       [3.],\n",
       "       [3.],\n",
       "       [2.],\n",
       "       [2.],\n",
       "       [2.],\n",
       "       [2.],\n",
       "       [2.],\n",
       "       [2.],\n",
       "       [2.],\n",
       "       [4.],\n",
       "       [2.],\n",
       "       [2.],\n",
       "       [3.],\n",
       "       [2.],\n",
       "       [2.],\n",
       "       [2.],\n",
       "       [4.],\n",
       "       [3.],\n",
       "       [3.],\n",
       "       [4.],\n",
       "       [2.],\n",
       "       [2.],\n",
       "       [3.],\n",
       "       [4.],\n",
       "       [4.],\n",
       "       [2.],\n",
       "       [3.],\n",
       "       [2.],\n",
       "       [5.],\n",
       "       [2.],\n",
       "       [2.],\n",
       "       [4.],\n",
       "       [2.],\n",
       "       [2.],\n",
       "       [1.],\n",
       "       [3.],\n",
       "       [2.],\n",
       "       [2.],\n",
       "       [2.],\n",
       "       [4.],\n",
       "       [2.],\n",
       "       [2.],\n",
       "       [4.],\n",
       "       [3.],\n",
       "       [2.],\n",
       "       [2.],\n",
       "       [2.],\n",
       "       [2.],\n",
       "       [2.],\n",
       "       [2.],\n",
       "       [3.],\n",
       "       [3.],\n",
       "       [2.],\n",
       "       [2.],\n",
       "       [2.],\n",
       "       [2.]])"
      ]
     },
     "execution_count": 28,
     "metadata": {},
     "output_type": "execute_result"
    }
   ],
   "source": [
    "size=data[:,7:]\n",
    "size"
   ]
  },
  {
   "cell_type": "code",
   "execution_count": 31,
   "id": "caf2efd7",
   "metadata": {},
   "outputs": [
    {
     "data": {
      "text/plain": [
       "627.0"
      ]
     },
     "execution_count": 31,
     "metadata": {},
     "output_type": "execute_result"
    }
   ],
   "source": [
    "x=np.sum(size)\n",
    "x"
   ]
  },
  {
   "cell_type": "code",
   "execution_count": 33,
   "id": "a6ae1213",
   "metadata": {},
   "outputs": [
    {
     "name": "stdout",
     "output_type": "stream",
     "text": [
      "average of size 2.569672131147541\n"
     ]
    }
   ],
   "source": [
    "print('average of size',x/len(size))"
   ]
  },
  {
   "cell_type": "code",
   "execution_count": 34,
   "id": "a1eaf0a4",
   "metadata": {},
   "outputs": [],
   "source": [
    "#how many female smokers and male smokers are there"
   ]
  },
  {
   "cell_type": "code",
   "execution_count": 36,
   "id": "845d87ec",
   "metadata": {},
   "outputs": [
    {
     "name": "stdout",
     "output_type": "stream",
     "text": [
      "[0. 1.]\n",
      "[151  93]\n"
     ]
    }
   ],
   "source": [
    "unique,counts=np.unique(data[:,4],return_counts=True)\n",
    "print(unique)\n",
    "print(counts)"
   ]
  },
  {
   "cell_type": "code",
   "execution_count": 40,
   "id": "f698fe3f",
   "metadata": {},
   "outputs": [
    {
     "name": "stdout",
     "output_type": "stream",
     "text": [
      "male somkers: 151\n",
      "female somkers: 93\n"
     ]
    }
   ],
   "source": [
    "male=counts[0]\n",
    "print('male somkers:',male)\n",
    "female=counts[1]\n",
    "print('female somkers:',female)"
   ]
  },
  {
   "cell_type": "code",
   "execution_count": null,
   "id": "9de37412",
   "metadata": {},
   "outputs": [],
   "source": []
  }
 ],
 "metadata": {
  "kernelspec": {
   "display_name": "Python 3 (ipykernel)",
   "language": "python",
   "name": "python3"
  },
  "language_info": {
   "codemirror_mode": {
    "name": "ipython",
    "version": 3
   },
   "file_extension": ".py",
   "mimetype": "text/x-python",
   "name": "python",
   "nbconvert_exporter": "python",
   "pygments_lexer": "ipython3",
   "version": "3.9.7"
  }
 },
 "nbformat": 4,
 "nbformat_minor": 5
}
